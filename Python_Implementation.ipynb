{
 "cells": [
  {
   "cell_type": "code",
   "execution_count": 1,
   "id": "6c0b8e8a",
   "metadata": {},
   "outputs": [
    {
     "name": "stdout",
     "output_type": "stream",
     "text": [
      "Collecting spotipy\n",
      "  Downloading spotipy-2.24.0-py3-none-any.whl (30 kB)\n",
      "Collecting redis>=3.5.3\n",
      "  Downloading redis-5.0.7-py3-none-any.whl (252 kB)\n",
      "\u001b[2K     \u001b[90m━━━━━━━━━━━━━━━━━━━━━━━━━━━━━━━━━━━━━━━\u001b[0m \u001b[32m252.1/252.1 kB\u001b[0m \u001b[31m4.0 MB/s\u001b[0m eta \u001b[36m0:00:00\u001b[0ma \u001b[36m0:00:01\u001b[0m\n",
      "\u001b[?25hRequirement already satisfied: requests>=2.25.0 in /Users/saichaitanya/anaconda3/lib/python3.10/site-packages (from spotipy) (2.31.0)\n",
      "Requirement already satisfied: urllib3>=1.26.0 in /Users/saichaitanya/anaconda3/lib/python3.10/site-packages (from spotipy) (1.26.18)\n",
      "Collecting async-timeout>=4.0.3\n",
      "  Downloading async_timeout-4.0.3-py3-none-any.whl (5.7 kB)\n",
      "Requirement already satisfied: certifi>=2017.4.17 in /Users/saichaitanya/anaconda3/lib/python3.10/site-packages (from requests>=2.25.0->spotipy) (2024.2.2)\n",
      "Requirement already satisfied: charset-normalizer<4,>=2 in /Users/saichaitanya/anaconda3/lib/python3.10/site-packages (from requests>=2.25.0->spotipy) (2.0.4)\n",
      "Requirement already satisfied: idna<4,>=2.5 in /Users/saichaitanya/anaconda3/lib/python3.10/site-packages (from requests>=2.25.0->spotipy) (3.4)\n",
      "Installing collected packages: async-timeout, redis, spotipy\n",
      "Successfully installed async-timeout-4.0.3 redis-5.0.7 spotipy-2.24.0\n"
     ]
    }
   ],
   "source": [
    "!pip install spotipy"
   ]
  },
  {
   "cell_type": "code",
   "execution_count": 1,
   "id": "61ab3774",
   "metadata": {},
   "outputs": [],
   "source": [
    "# Importing the Spotipy library for Spotify API interaction\n",
    "import spotipy\n",
    "from spotipy.oauth2 import SpotifyClientCredentials\n",
    "import pandas as pd"
   ]
  },
  {
   "cell_type": "code",
   "execution_count": 2,
   "id": "533eb5bb",
   "metadata": {},
   "outputs": [],
   "source": [
    "# Setting up the Spotify API credentials\n",
    "client_credentials_manager = SpotifyClientCredentials(client_id = \"\", client_secret = \"\")"
   ]
  },
  {
   "cell_type": "code",
   "execution_count": 3,
   "id": "c5295672",
   "metadata": {},
   "outputs": [],
   "source": [
    "# Creating an authenticated Spotify API client\n",
    "sp = spotipy.Spotify(client_credentials_manager = client_credentials_manager)"
   ]
  },
  {
   "cell_type": "code",
   "execution_count": 4,
   "id": "c3cb21d2",
   "metadata": {},
   "outputs": [],
   "source": [
    "# Define the Spotify playlist link to fetch the tracks from\n",
    "playlist_link = \"https://open.spotify.com/playlist/37i9dQZEVXbNG2KDcFcKOF?_authfailed=1\""
   ]
  },
  {
   "cell_type": "code",
   "execution_count": 5,
   "id": "b5f2a964",
   "metadata": {},
   "outputs": [],
   "source": [
    "# Extracting playlist id\n",
    "playlist_uri = playlist_link.split(\"/\")[-1].split(\"?\")[0]"
   ]
  },
  {
   "cell_type": "code",
   "execution_count": 6,
   "id": "4253c23a",
   "metadata": {},
   "outputs": [],
   "source": [
    "# Fetching all tracks from the specified Spotify playlist\n",
    "data = sp.playlist_tracks(playlist_uri)"
   ]
  },
  {
   "cell_type": "code",
   "execution_count": 7,
   "id": "1081b08d",
   "metadata": {},
   "outputs": [
    {
     "data": {
      "text/plain": [
       "'5quMTd5zeI9yW5UDua8wS4'"
      ]
     },
     "execution_count": 7,
     "metadata": {},
     "output_type": "execute_result"
    }
   ],
   "source": [
    "# Album ID\n",
    "data['items'][0]['track']['album']['id']"
   ]
  },
  {
   "cell_type": "code",
   "execution_count": 8,
   "id": "84f34d54",
   "metadata": {},
   "outputs": [
    {
     "data": {
      "text/plain": [
       "'Espresso'"
      ]
     },
     "execution_count": 8,
     "metadata": {},
     "output_type": "execute_result"
    }
   ],
   "source": [
    "# Album Name\n",
    "data['items'][0]['track']['album']['name']"
   ]
  },
  {
   "cell_type": "code",
   "execution_count": 9,
   "id": "efb12670",
   "metadata": {},
   "outputs": [
    {
     "data": {
      "text/plain": [
       "'https://open.spotify.com/album/5quMTd5zeI9yW5UDua8wS4'"
      ]
     },
     "execution_count": 9,
     "metadata": {},
     "output_type": "execute_result"
    }
   ],
   "source": [
    "# Album Spotify URL\n",
    "data['items'][0]['track']['album']['external_urls']['spotify']"
   ]
  },
  {
   "cell_type": "code",
   "execution_count": 10,
   "id": "bdaad783",
   "metadata": {},
   "outputs": [
    {
     "data": {
      "text/plain": [
       "1"
      ]
     },
     "execution_count": 10,
     "metadata": {},
     "output_type": "execute_result"
    }
   ],
   "source": [
    "# Total Tracks in Album\n",
    "data['items'][0]['track']['album']['total_tracks']"
   ]
  },
  {
   "cell_type": "code",
   "execution_count": 11,
   "id": "8b7e5fc8",
   "metadata": {},
   "outputs": [
    {
     "data": {
      "text/plain": [
       "'2024-04-12'"
      ]
     },
     "execution_count": 11,
     "metadata": {},
     "output_type": "execute_result"
    }
   ],
   "source": [
    "# Album Release Date\n",
    "data['items'][0]['track']['album']['release_date']"
   ]
  },
  {
   "cell_type": "code",
   "execution_count": 12,
   "id": "4d010d3f",
   "metadata": {},
   "outputs": [
    {
     "data": {
      "text/plain": [
       "'Sabrina Carpenter'"
      ]
     },
     "execution_count": 12,
     "metadata": {},
     "output_type": "execute_result"
    }
   ],
   "source": [
    "# Album Artist Name\n",
    "data['items'][0]['track']['album']['artists'][0]['name']"
   ]
  },
  {
   "cell_type": "code",
   "execution_count": 38,
   "id": "c527eee5",
   "metadata": {},
   "outputs": [],
   "source": [
    "# Looping through the data to extract album details for all tracks in the playlist\n",
    "Album_Id = []\n",
    "Album_name = []\n",
    "Album_Release_date = []\n",
    "Total_tracks = []\n",
    "Album_URL = []\n",
    "for row in data['items']:\n",
    "    Album_Id.append(row['track']['album']['id'])\n",
    "    Album_name.append(row['track']['album']['name'])\n",
    "    Album_Release_date.append(row['track']['album']['release_date'])\n",
    "    Total_tracks.append(row['track']['album']['total_tracks'])\n",
    "    Album_URL.append(row['track']['album']['external_urls']['spotify'])\n",
    "\n",
    "dict_albums = {'Album_Id': Album_Id, 'Album_Name': Album_name,'Album_Release_Date': Album_Release_date, 'Total_Tracks': Total_tracks, 'Album_URL': Album_URL}\n",
    "\n",
    "df_album = pd.DataFrame(dict_albums)"
   ]
  },
  {
   "cell_type": "code",
   "execution_count": 39,
   "id": "7f6249c1",
   "metadata": {},
   "outputs": [
    {
     "data": {
      "text/html": [
       "<div>\n",
       "<style scoped>\n",
       "    .dataframe tbody tr th:only-of-type {\n",
       "        vertical-align: middle;\n",
       "    }\n",
       "\n",
       "    .dataframe tbody tr th {\n",
       "        vertical-align: top;\n",
       "    }\n",
       "\n",
       "    .dataframe thead th {\n",
       "        text-align: right;\n",
       "    }\n",
       "</style>\n",
       "<table border=\"1\" class=\"dataframe\">\n",
       "  <thead>\n",
       "    <tr style=\"text-align: right;\">\n",
       "      <th></th>\n",
       "      <th>Album_Id</th>\n",
       "      <th>Album_Name</th>\n",
       "      <th>Album_Release_Date</th>\n",
       "      <th>Total_Tracks</th>\n",
       "      <th>Album_URL</th>\n",
       "    </tr>\n",
       "  </thead>\n",
       "  <tbody>\n",
       "    <tr>\n",
       "      <th>0</th>\n",
       "      <td>5quMTd5zeI9yW5UDua8wS4</td>\n",
       "      <td>Espresso</td>\n",
       "      <td>2024-04-12</td>\n",
       "      <td>1</td>\n",
       "      <td>https://open.spotify.com/album/5quMTd5zeI9yW5U...</td>\n",
       "    </tr>\n",
       "    <tr>\n",
       "      <th>1</th>\n",
       "      <td>5bBaoign62r1i7OV8w7mi9</td>\n",
       "      <td>Please Please Please</td>\n",
       "      <td>2024-06-06</td>\n",
       "      <td>2</td>\n",
       "      <td>https://open.spotify.com/album/5bBaoign62r1i7O...</td>\n",
       "    </tr>\n",
       "    <tr>\n",
       "      <th>2</th>\n",
       "      <td>7aJuG4TFXa2hmE4z1yxc3n</td>\n",
       "      <td>HIT ME HARD AND SOFT</td>\n",
       "      <td>2024-05-17</td>\n",
       "      <td>10</td>\n",
       "      <td>https://open.spotify.com/album/7aJuG4TFXa2hmE4...</td>\n",
       "    </tr>\n",
       "    <tr>\n",
       "      <th>3</th>\n",
       "      <td>5tSQtQGkrCJx3hoQxmLgfM</td>\n",
       "      <td>Gata Only</td>\n",
       "      <td>2024-02-02</td>\n",
       "      <td>1</td>\n",
       "      <td>https://open.spotify.com/album/5tSQtQGkrCJx3ho...</td>\n",
       "    </tr>\n",
       "    <tr>\n",
       "      <th>4</th>\n",
       "      <td>5JjnoGJyOxfSZUZtk2rRwZ</td>\n",
       "      <td>Not Like Us</td>\n",
       "      <td>2024-05-04</td>\n",
       "      <td>1</td>\n",
       "      <td>https://open.spotify.com/album/5JjnoGJyOxfSZUZ...</td>\n",
       "    </tr>\n",
       "    <tr>\n",
       "      <th>5</th>\n",
       "      <td>2Z1gnUf3nbn6DtwZSUIH54</td>\n",
       "      <td>MILLION DOLLAR BABY</td>\n",
       "      <td>2024-04-26</td>\n",
       "      <td>2</td>\n",
       "      <td>https://open.spotify.com/album/2Z1gnUf3nbn6Dtw...</td>\n",
       "    </tr>\n",
       "    <tr>\n",
       "      <th>6</th>\n",
       "      <td>0DLvFVIfwt3OHdK9kGeEM3</td>\n",
       "      <td>Where I've Been, Isn't Where I'm Going</td>\n",
       "      <td>2024-05-31</td>\n",
       "      <td>12</td>\n",
       "      <td>https://open.spotify.com/album/0DLvFVIfwt3OHdK...</td>\n",
       "    </tr>\n",
       "    <tr>\n",
       "      <th>7</th>\n",
       "      <td>1WAjjRMfZjEXtB0lQrAw6Q</td>\n",
       "      <td>Good Luck, Babe!</td>\n",
       "      <td>2024-04-05</td>\n",
       "      <td>1</td>\n",
       "      <td>https://open.spotify.com/album/1WAjjRMfZjEXtB0...</td>\n",
       "    </tr>\n",
       "    <tr>\n",
       "      <th>8</th>\n",
       "      <td>168CdR21lfn0TTyw1Pkdcm</td>\n",
       "      <td>Fireworks &amp; Rollerblades</td>\n",
       "      <td>2024-04-05</td>\n",
       "      <td>15</td>\n",
       "      <td>https://open.spotify.com/album/168CdR21lfn0TTy...</td>\n",
       "    </tr>\n",
       "    <tr>\n",
       "      <th>9</th>\n",
       "      <td>3P4SQqMMgjqfqVxgLwtYRk</td>\n",
       "      <td>Unreal Unearth: Unheard</td>\n",
       "      <td>2024-03-22</td>\n",
       "      <td>20</td>\n",
       "      <td>https://open.spotify.com/album/3P4SQqMMgjqfqVx...</td>\n",
       "    </tr>\n",
       "  </tbody>\n",
       "</table>\n",
       "</div>"
      ],
      "text/plain": [
       "                 Album_Id                              Album_Name  \\\n",
       "0  5quMTd5zeI9yW5UDua8wS4                                Espresso   \n",
       "1  5bBaoign62r1i7OV8w7mi9                    Please Please Please   \n",
       "2  7aJuG4TFXa2hmE4z1yxc3n                    HIT ME HARD AND SOFT   \n",
       "3  5tSQtQGkrCJx3hoQxmLgfM                               Gata Only   \n",
       "4  5JjnoGJyOxfSZUZtk2rRwZ                             Not Like Us   \n",
       "5  2Z1gnUf3nbn6DtwZSUIH54                     MILLION DOLLAR BABY   \n",
       "6  0DLvFVIfwt3OHdK9kGeEM3  Where I've Been, Isn't Where I'm Going   \n",
       "7  1WAjjRMfZjEXtB0lQrAw6Q                        Good Luck, Babe!   \n",
       "8  168CdR21lfn0TTyw1Pkdcm                Fireworks & Rollerblades   \n",
       "9  3P4SQqMMgjqfqVxgLwtYRk                 Unreal Unearth: Unheard   \n",
       "\n",
       "  Album_Release_Date  Total_Tracks  \\\n",
       "0         2024-04-12             1   \n",
       "1         2024-06-06             2   \n",
       "2         2024-05-17            10   \n",
       "3         2024-02-02             1   \n",
       "4         2024-05-04             1   \n",
       "5         2024-04-26             2   \n",
       "6         2024-05-31            12   \n",
       "7         2024-04-05             1   \n",
       "8         2024-04-05            15   \n",
       "9         2024-03-22            20   \n",
       "\n",
       "                                           Album_URL  \n",
       "0  https://open.spotify.com/album/5quMTd5zeI9yW5U...  \n",
       "1  https://open.spotify.com/album/5bBaoign62r1i7O...  \n",
       "2  https://open.spotify.com/album/7aJuG4TFXa2hmE4...  \n",
       "3  https://open.spotify.com/album/5tSQtQGkrCJx3ho...  \n",
       "4  https://open.spotify.com/album/5JjnoGJyOxfSZUZ...  \n",
       "5  https://open.spotify.com/album/2Z1gnUf3nbn6Dtw...  \n",
       "6  https://open.spotify.com/album/0DLvFVIfwt3OHdK...  \n",
       "7  https://open.spotify.com/album/1WAjjRMfZjEXtB0...  \n",
       "8  https://open.spotify.com/album/168CdR21lfn0TTy...  \n",
       "9  https://open.spotify.com/album/3P4SQqMMgjqfqVx...  "
      ]
     },
     "execution_count": 39,
     "metadata": {},
     "output_type": "execute_result"
    }
   ],
   "source": [
    "df_album.head(10)"
   ]
  },
  {
   "cell_type": "code",
   "execution_count": 50,
   "id": "d9714a5c",
   "metadata": {},
   "outputs": [],
   "source": [
    "# Removing duplicates\n",
    "df_album = df_album.drop_duplicates(subset = ['Album_Id'])"
   ]
  },
  {
   "cell_type": "code",
   "execution_count": 48,
   "id": "0d39cf6e",
   "metadata": {},
   "outputs": [],
   "source": [
    "# Looping through the data to extract artist details for all tracks\n",
    "artist_list = []\n",
    "for row in data['items']:\n",
    "    for key, value in row.items():\n",
    "        if key == \"track\":\n",
    "            for artist in value['artists']:\n",
    "                artist_dict = {'Artist_Id':artist['id'], 'Artist_Name':artist['name'], 'External_URL': artist['href']}\n",
    "                artist_list.append(artist_dict)\n",
    "\n",
    "df_artist = pd.DataFrame(artist_list)"
   ]
  },
  {
   "cell_type": "code",
   "execution_count": 51,
   "id": "53fe597f",
   "metadata": {},
   "outputs": [
    {
     "data": {
      "text/html": [
       "<div>\n",
       "<style scoped>\n",
       "    .dataframe tbody tr th:only-of-type {\n",
       "        vertical-align: middle;\n",
       "    }\n",
       "\n",
       "    .dataframe tbody tr th {\n",
       "        vertical-align: top;\n",
       "    }\n",
       "\n",
       "    .dataframe thead th {\n",
       "        text-align: right;\n",
       "    }\n",
       "</style>\n",
       "<table border=\"1\" class=\"dataframe\">\n",
       "  <thead>\n",
       "    <tr style=\"text-align: right;\">\n",
       "      <th></th>\n",
       "      <th>Artist_Id</th>\n",
       "      <th>Artist_Name</th>\n",
       "      <th>External_URL</th>\n",
       "    </tr>\n",
       "  </thead>\n",
       "  <tbody>\n",
       "    <tr>\n",
       "      <th>0</th>\n",
       "      <td>74KM79TiuVKeVCqs8QtB0B</td>\n",
       "      <td>Sabrina Carpenter</td>\n",
       "      <td>https://api.spotify.com/v1/artists/74KM79TiuVK...</td>\n",
       "    </tr>\n",
       "    <tr>\n",
       "      <th>1</th>\n",
       "      <td>74KM79TiuVKeVCqs8QtB0B</td>\n",
       "      <td>Sabrina Carpenter</td>\n",
       "      <td>https://api.spotify.com/v1/artists/74KM79TiuVK...</td>\n",
       "    </tr>\n",
       "    <tr>\n",
       "      <th>2</th>\n",
       "      <td>6qqNVTkY8uBg9cP3Jd7DAH</td>\n",
       "      <td>Billie Eilish</td>\n",
       "      <td>https://api.spotify.com/v1/artists/6qqNVTkY8uB...</td>\n",
       "    </tr>\n",
       "    <tr>\n",
       "      <th>3</th>\n",
       "      <td>7CvTknweLr9feJtRGrpDBy</td>\n",
       "      <td>FloyyMenor</td>\n",
       "      <td>https://api.spotify.com/v1/artists/7CvTknweLr9...</td>\n",
       "    </tr>\n",
       "    <tr>\n",
       "      <th>4</th>\n",
       "      <td>1Yj5Xey7kTwvZla8sqdsdE</td>\n",
       "      <td>Cris Mj</td>\n",
       "      <td>https://api.spotify.com/v1/artists/1Yj5Xey7kTw...</td>\n",
       "    </tr>\n",
       "    <tr>\n",
       "      <th>5</th>\n",
       "      <td>2YZyLoL8N0Wb9xBt1NhZWg</td>\n",
       "      <td>Kendrick Lamar</td>\n",
       "      <td>https://api.spotify.com/v1/artists/2YZyLoL8N0W...</td>\n",
       "    </tr>\n",
       "    <tr>\n",
       "      <th>6</th>\n",
       "      <td>1WaFQSHVGZQJTbf0BdxdNo</td>\n",
       "      <td>Tommy Richman</td>\n",
       "      <td>https://api.spotify.com/v1/artists/1WaFQSHVGZQ...</td>\n",
       "    </tr>\n",
       "    <tr>\n",
       "      <th>7</th>\n",
       "      <td>3y2cIKLjiOlp1Np37WiUdH</td>\n",
       "      <td>Shaboozey</td>\n",
       "      <td>https://api.spotify.com/v1/artists/3y2cIKLjiOl...</td>\n",
       "    </tr>\n",
       "    <tr>\n",
       "      <th>8</th>\n",
       "      <td>7GlBOeep6PqTfFi59PTUUN</td>\n",
       "      <td>Chappell Roan</td>\n",
       "      <td>https://api.spotify.com/v1/artists/7GlBOeep6Pq...</td>\n",
       "    </tr>\n",
       "    <tr>\n",
       "      <th>9</th>\n",
       "      <td>22wbnEMDvgVIAGdFeek6ET</td>\n",
       "      <td>Benson Boone</td>\n",
       "      <td>https://api.spotify.com/v1/artists/22wbnEMDvgV...</td>\n",
       "    </tr>\n",
       "    <tr>\n",
       "      <th>10</th>\n",
       "      <td>2FXC3k01G6Gw61bmprjgqS</td>\n",
       "      <td>Hozier</td>\n",
       "      <td>https://api.spotify.com/v1/artists/2FXC3k01G6G...</td>\n",
       "    </tr>\n",
       "    <tr>\n",
       "      <th>11</th>\n",
       "      <td>246dkjvS1zLTtiykXe5h60</td>\n",
       "      <td>Post Malone</td>\n",
       "      <td>https://api.spotify.com/v1/artists/246dkjvS1zL...</td>\n",
       "    </tr>\n",
       "    <tr>\n",
       "      <th>12</th>\n",
       "      <td>4oUHIQIBe0LHzYfvXNW4QM</td>\n",
       "      <td>Morgan Wallen</td>\n",
       "      <td>https://api.spotify.com/v1/artists/4oUHIQIBe0L...</td>\n",
       "    </tr>\n",
       "    <tr>\n",
       "      <th>13</th>\n",
       "      <td>790FomKkXshlbRYZFtlgla</td>\n",
       "      <td>KAROL G</td>\n",
       "      <td>https://api.spotify.com/v1/artists/790FomKkXsh...</td>\n",
       "    </tr>\n",
       "    <tr>\n",
       "      <th>14</th>\n",
       "      <td>1oSPZhvZMIrWW5I41kPkkY</td>\n",
       "      <td>Jimin</td>\n",
       "      <td>https://api.spotify.com/v1/artists/1oSPZhvZMIr...</td>\n",
       "    </tr>\n",
       "  </tbody>\n",
       "</table>\n",
       "</div>"
      ],
      "text/plain": [
       "                 Artist_Id        Artist_Name  \\\n",
       "0   74KM79TiuVKeVCqs8QtB0B  Sabrina Carpenter   \n",
       "1   74KM79TiuVKeVCqs8QtB0B  Sabrina Carpenter   \n",
       "2   6qqNVTkY8uBg9cP3Jd7DAH      Billie Eilish   \n",
       "3   7CvTknweLr9feJtRGrpDBy         FloyyMenor   \n",
       "4   1Yj5Xey7kTwvZla8sqdsdE            Cris Mj   \n",
       "5   2YZyLoL8N0Wb9xBt1NhZWg     Kendrick Lamar   \n",
       "6   1WaFQSHVGZQJTbf0BdxdNo      Tommy Richman   \n",
       "7   3y2cIKLjiOlp1Np37WiUdH          Shaboozey   \n",
       "8   7GlBOeep6PqTfFi59PTUUN      Chappell Roan   \n",
       "9   22wbnEMDvgVIAGdFeek6ET       Benson Boone   \n",
       "10  2FXC3k01G6Gw61bmprjgqS             Hozier   \n",
       "11  246dkjvS1zLTtiykXe5h60        Post Malone   \n",
       "12  4oUHIQIBe0LHzYfvXNW4QM      Morgan Wallen   \n",
       "13  790FomKkXshlbRYZFtlgla            KAROL G   \n",
       "14  1oSPZhvZMIrWW5I41kPkkY              Jimin   \n",
       "\n",
       "                                         External_URL  \n",
       "0   https://api.spotify.com/v1/artists/74KM79TiuVK...  \n",
       "1   https://api.spotify.com/v1/artists/74KM79TiuVK...  \n",
       "2   https://api.spotify.com/v1/artists/6qqNVTkY8uB...  \n",
       "3   https://api.spotify.com/v1/artists/7CvTknweLr9...  \n",
       "4   https://api.spotify.com/v1/artists/1Yj5Xey7kTw...  \n",
       "5   https://api.spotify.com/v1/artists/2YZyLoL8N0W...  \n",
       "6   https://api.spotify.com/v1/artists/1WaFQSHVGZQ...  \n",
       "7   https://api.spotify.com/v1/artists/3y2cIKLjiOl...  \n",
       "8   https://api.spotify.com/v1/artists/7GlBOeep6Pq...  \n",
       "9   https://api.spotify.com/v1/artists/22wbnEMDvgV...  \n",
       "10  https://api.spotify.com/v1/artists/2FXC3k01G6G...  \n",
       "11  https://api.spotify.com/v1/artists/246dkjvS1zL...  \n",
       "12  https://api.spotify.com/v1/artists/4oUHIQIBe0L...  \n",
       "13  https://api.spotify.com/v1/artists/790FomKkXsh...  \n",
       "14  https://api.spotify.com/v1/artists/1oSPZhvZMIr...  "
      ]
     },
     "execution_count": 51,
     "metadata": {},
     "output_type": "execute_result"
    }
   ],
   "source": [
    "df_artist.head(15)"
   ]
  },
  {
   "cell_type": "code",
   "execution_count": 52,
   "id": "3c883b5d",
   "metadata": {},
   "outputs": [],
   "source": [
    "# Removing duplicates\n",
    "df_artist = df_artist.drop_duplicates(subset = ['Artist_Id'])"
   ]
  },
  {
   "cell_type": "code",
   "execution_count": 43,
   "id": "79db50e7",
   "metadata": {},
   "outputs": [],
   "source": [
    "# Looping through the data to extract song details for all tracks\n",
    "song_id = []\n",
    "song_name = []\n",
    "song_duration = []\n",
    "song_url = []\n",
    "song_popularity = []\n",
    "song_added = []\n",
    "album_id = []\n",
    "artist_id = []\n",
    "for row in data['items']:\n",
    "    song_id.append(row['track']['id'])\n",
    "    song_name.append(row['track']['name'])\n",
    "    song_duration.append(row['track']['duration_ms'])\n",
    "    song_url.append(row['track']['external_urls']['spotify'])\n",
    "    song_popularity.append(row['track']['popularity'])\n",
    "    song_added.append(row['added_at'])\n",
    "    album_id.append(row['track']['album']['id'])\n",
    "dict_songs = {'Song_Id':song_id,'Song_Name':song_name,'Duration_ms':song_duration,'Song_URL':song_url,\n",
    "                    'Popularity':song_popularity,'Song_Added':song_added,'Album_Id':album_id\n",
    "                   }\n",
    "df_songs = pd.DataFrame(dict_songs)"
   ]
  },
  {
   "cell_type": "code",
   "execution_count": 44,
   "id": "798a82c9",
   "metadata": {},
   "outputs": [
    {
     "data": {
      "text/html": [
       "<div>\n",
       "<style scoped>\n",
       "    .dataframe tbody tr th:only-of-type {\n",
       "        vertical-align: middle;\n",
       "    }\n",
       "\n",
       "    .dataframe tbody tr th {\n",
       "        vertical-align: top;\n",
       "    }\n",
       "\n",
       "    .dataframe thead th {\n",
       "        text-align: right;\n",
       "    }\n",
       "</style>\n",
       "<table border=\"1\" class=\"dataframe\">\n",
       "  <thead>\n",
       "    <tr style=\"text-align: right;\">\n",
       "      <th></th>\n",
       "      <th>Song_Id</th>\n",
       "      <th>Song_Name</th>\n",
       "      <th>Duration_ms</th>\n",
       "      <th>Song_URL</th>\n",
       "      <th>Popularity</th>\n",
       "      <th>Song_Added</th>\n",
       "      <th>Album_Id</th>\n",
       "    </tr>\n",
       "  </thead>\n",
       "  <tbody>\n",
       "    <tr>\n",
       "      <th>0</th>\n",
       "      <td>2qSkIjg1o9h3YT9RAgYN75</td>\n",
       "      <td>Espresso</td>\n",
       "      <td>175459</td>\n",
       "      <td>https://open.spotify.com/track/2qSkIjg1o9h3YT9...</td>\n",
       "      <td>100</td>\n",
       "      <td>2024-07-05T10:57:34Z</td>\n",
       "      <td>5quMTd5zeI9yW5UDua8wS4</td>\n",
       "    </tr>\n",
       "    <tr>\n",
       "      <th>1</th>\n",
       "      <td>5N3hjp1WNayUPZrA8kJmJP</td>\n",
       "      <td>Please Please Please</td>\n",
       "      <td>186365</td>\n",
       "      <td>https://open.spotify.com/track/5N3hjp1WNayUPZr...</td>\n",
       "      <td>98</td>\n",
       "      <td>2024-07-05T10:57:34Z</td>\n",
       "      <td>5bBaoign62r1i7OV8w7mi9</td>\n",
       "    </tr>\n",
       "    <tr>\n",
       "      <th>2</th>\n",
       "      <td>6dOtVTDdiauQNBQEDOtlAB</td>\n",
       "      <td>BIRDS OF A FEATHER</td>\n",
       "      <td>210373</td>\n",
       "      <td>https://open.spotify.com/track/6dOtVTDdiauQNBQ...</td>\n",
       "      <td>98</td>\n",
       "      <td>2024-07-05T10:57:34Z</td>\n",
       "      <td>7aJuG4TFXa2hmE4z1yxc3n</td>\n",
       "    </tr>\n",
       "    <tr>\n",
       "      <th>3</th>\n",
       "      <td>6XjDF6nds4DE2BBbagZol6</td>\n",
       "      <td>Gata Only</td>\n",
       "      <td>222000</td>\n",
       "      <td>https://open.spotify.com/track/6XjDF6nds4DE2BB...</td>\n",
       "      <td>96</td>\n",
       "      <td>2024-07-05T10:57:34Z</td>\n",
       "      <td>5tSQtQGkrCJx3hoQxmLgfM</td>\n",
       "    </tr>\n",
       "    <tr>\n",
       "      <th>4</th>\n",
       "      <td>6AI3ezQ4o3HUoP6Dhudph3</td>\n",
       "      <td>Not Like Us</td>\n",
       "      <td>274192</td>\n",
       "      <td>https://open.spotify.com/track/6AI3ezQ4o3HUoP6...</td>\n",
       "      <td>96</td>\n",
       "      <td>2024-07-05T10:57:34Z</td>\n",
       "      <td>5JjnoGJyOxfSZUZtk2rRwZ</td>\n",
       "    </tr>\n",
       "  </tbody>\n",
       "</table>\n",
       "</div>"
      ],
      "text/plain": [
       "                  Song_Id             Song_Name  Duration_ms  \\\n",
       "0  2qSkIjg1o9h3YT9RAgYN75              Espresso       175459   \n",
       "1  5N3hjp1WNayUPZrA8kJmJP  Please Please Please       186365   \n",
       "2  6dOtVTDdiauQNBQEDOtlAB    BIRDS OF A FEATHER       210373   \n",
       "3  6XjDF6nds4DE2BBbagZol6             Gata Only       222000   \n",
       "4  6AI3ezQ4o3HUoP6Dhudph3           Not Like Us       274192   \n",
       "\n",
       "                                            Song_URL  Popularity  \\\n",
       "0  https://open.spotify.com/track/2qSkIjg1o9h3YT9...         100   \n",
       "1  https://open.spotify.com/track/5N3hjp1WNayUPZr...          98   \n",
       "2  https://open.spotify.com/track/6dOtVTDdiauQNBQ...          98   \n",
       "3  https://open.spotify.com/track/6XjDF6nds4DE2BB...          96   \n",
       "4  https://open.spotify.com/track/6AI3ezQ4o3HUoP6...          96   \n",
       "\n",
       "             Song_Added                Album_Id  \n",
       "0  2024-07-05T10:57:34Z  5quMTd5zeI9yW5UDua8wS4  \n",
       "1  2024-07-05T10:57:34Z  5bBaoign62r1i7OV8w7mi9  \n",
       "2  2024-07-05T10:57:34Z  7aJuG4TFXa2hmE4z1yxc3n  \n",
       "3  2024-07-05T10:57:34Z  5tSQtQGkrCJx3hoQxmLgfM  \n",
       "4  2024-07-05T10:57:34Z  5JjnoGJyOxfSZUZtk2rRwZ  "
      ]
     },
     "execution_count": 44,
     "metadata": {},
     "output_type": "execute_result"
    }
   ],
   "source": [
    "df_songs.head()"
   ]
  },
  {
   "cell_type": "code",
   "execution_count": 53,
   "id": "a2772bf2",
   "metadata": {},
   "outputs": [
    {
     "name": "stdout",
     "output_type": "stream",
     "text": [
      "<class 'pandas.core.frame.DataFrame'>\n",
      "Index: 46 entries, 0 to 49\n",
      "Data columns (total 5 columns):\n",
      " #   Column              Non-Null Count  Dtype \n",
      "---  ------              --------------  ----- \n",
      " 0   Album_Id            46 non-null     object\n",
      " 1   Album_Name          46 non-null     object\n",
      " 2   Album_Release_Date  46 non-null     object\n",
      " 3   Total_Tracks        46 non-null     int64 \n",
      " 4   Album_URL           46 non-null     object\n",
      "dtypes: int64(1), object(4)\n",
      "memory usage: 2.2+ KB\n"
     ]
    }
   ],
   "source": [
    "df_album.info()"
   ]
  },
  {
   "cell_type": "code",
   "execution_count": 54,
   "id": "9f8d1102",
   "metadata": {},
   "outputs": [],
   "source": [
    "# Converting the Album Release Date to datetime format\n",
    "df_album['Album_Release_Date'] = pd.to_datetime(df_album['Album_Release_Date'])"
   ]
  },
  {
   "cell_type": "code",
   "execution_count": 55,
   "id": "9479a63a",
   "metadata": {},
   "outputs": [
    {
     "name": "stdout",
     "output_type": "stream",
     "text": [
      "<class 'pandas.core.frame.DataFrame'>\n",
      "Index: 46 entries, 0 to 49\n",
      "Data columns (total 5 columns):\n",
      " #   Column              Non-Null Count  Dtype         \n",
      "---  ------              --------------  -----         \n",
      " 0   Album_Id            46 non-null     object        \n",
      " 1   Album_Name          46 non-null     object        \n",
      " 2   Album_Release_Date  46 non-null     datetime64[ns]\n",
      " 3   Total_Tracks        46 non-null     int64         \n",
      " 4   Album_URL           46 non-null     object        \n",
      "dtypes: datetime64[ns](1), int64(1), object(3)\n",
      "memory usage: 2.2+ KB\n"
     ]
    }
   ],
   "source": [
    "df_album.info()"
   ]
  },
  {
   "cell_type": "code",
   "execution_count": 56,
   "id": "26150715",
   "metadata": {},
   "outputs": [
    {
     "name": "stdout",
     "output_type": "stream",
     "text": [
      "<class 'pandas.core.frame.DataFrame'>\n",
      "RangeIndex: 50 entries, 0 to 49\n",
      "Data columns (total 7 columns):\n",
      " #   Column       Non-Null Count  Dtype \n",
      "---  ------       --------------  ----- \n",
      " 0   Song_Id      50 non-null     object\n",
      " 1   Song_Name    50 non-null     object\n",
      " 2   Duration_ms  50 non-null     int64 \n",
      " 3   Song_URL     50 non-null     object\n",
      " 4   Popularity   50 non-null     int64 \n",
      " 5   Song_Added   50 non-null     object\n",
      " 6   Album_Id     50 non-null     object\n",
      "dtypes: int64(2), object(5)\n",
      "memory usage: 2.9+ KB\n"
     ]
    }
   ],
   "source": [
    "df_songs.info()"
   ]
  },
  {
   "cell_type": "code",
   "execution_count": 58,
   "id": "1acc9aa6",
   "metadata": {},
   "outputs": [],
   "source": [
    "# Converting the Song Added Date to datetime format\n",
    "df_songs['Song_Added'] = pd.to_datetime(df_songs['Song_Added'])"
   ]
  },
  {
   "cell_type": "code",
   "execution_count": 59,
   "id": "5d502a22",
   "metadata": {},
   "outputs": [
    {
     "name": "stdout",
     "output_type": "stream",
     "text": [
      "<class 'pandas.core.frame.DataFrame'>\n",
      "RangeIndex: 50 entries, 0 to 49\n",
      "Data columns (total 7 columns):\n",
      " #   Column       Non-Null Count  Dtype              \n",
      "---  ------       --------------  -----              \n",
      " 0   Song_Id      50 non-null     object             \n",
      " 1   Song_Name    50 non-null     object             \n",
      " 2   Duration_ms  50 non-null     int64              \n",
      " 3   Song_URL     50 non-null     object             \n",
      " 4   Popularity   50 non-null     int64              \n",
      " 5   Song_Added   50 non-null     datetime64[ns, UTC]\n",
      " 6   Album_Id     50 non-null     object             \n",
      "dtypes: datetime64[ns, UTC](1), int64(2), object(4)\n",
      "memory usage: 2.9+ KB\n"
     ]
    }
   ],
   "source": [
    "df_songs.info()"
   ]
  },
  {
   "cell_type": "code",
   "execution_count": null,
   "id": "188599e0",
   "metadata": {},
   "outputs": [],
   "source": []
  }
 ],
 "metadata": {
  "kernelspec": {
   "display_name": "Python 3 (ipykernel)",
   "language": "python",
   "name": "python3"
  },
  "language_info": {
   "codemirror_mode": {
    "name": "ipython",
    "version": 3
   },
   "file_extension": ".py",
   "mimetype": "text/x-python",
   "name": "python",
   "nbconvert_exporter": "python",
   "pygments_lexer": "ipython3",
   "version": "3.10.9"
  }
 },
 "nbformat": 4,
 "nbformat_minor": 5
}
